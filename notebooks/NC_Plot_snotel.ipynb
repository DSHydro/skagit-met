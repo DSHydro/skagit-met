{
 "cells": [
  {
   "cell_type": "code",
   "execution_count": 181,
   "id": "27d2c544-ba28-472a-bf8d-5e50d1844ec0",
   "metadata": {},
   "outputs": [],
   "source": [
    "from datetime import datetime\n",
    "from metloom.pointdata import SnotelPointData\n",
    "import geopandas as gpd\n",
    "import contextily as ctx\n",
    "import matplotlib.pyplot as plt\n",
    "from shapely.geometry import Point\n"
   ]
  },
  {
   "cell_type": "code",
   "execution_count": 182,
   "id": "94fe8477-1102-4c3a-a80f-a9cef967a3f0",
   "metadata": {},
   "outputs": [],
   "source": [
    "# get stations for the Skagit Basin\n",
    "# Find your area\n",
    "#sf_path = Path(\"./data/outline.shp\").expanduser()\n",
    "sf_path = \"./Data/GIS/SkagitBoundary.json\"\n",
    "sf = gpd.read_file(str(sf_path))\n",
    "#sf[\"name\"] = [\"Skagit\"]\n",
    "variables = [SnotelPointData.ALLOWED_VARIABLES.TEMP]\n"
   ]
  },
  {
   "cell_type": "code",
   "execution_count": 183,
   "id": "369e1a67-177b-46cd-a2dd-41cc32648f23",
   "metadata": {},
   "outputs": [],
   "source": [
    "# What does the area look like\n",
    "\n",
    "#sf.explore()"
   ]
  },
  {
   "cell_type": "code",
   "execution_count": 184,
   "id": "6b6a5b7f-66d0-43f8-a840-c3ce7396feaf",
   "metadata": {},
   "outputs": [
    {
     "name": "stdout",
     "output_type": "stream",
     "text": [
      "9\n",
      "<class 'metloom.pointdata.base.PointDataCollection'>\n",
      "[SnotelPointData('1319:WA:SNTL', 'Decline Creek'), SnotelPointData('991:WA:SNTL', 'Hozomeen Camp'), SnotelPointData('998:WA:SNTL', 'Easy Pass'), SnotelPointData('817:WA:SNTL', 'Thunder Basin'), SnotelPointData('1080:WA:SNTL', 'Brown Top'), SnotelPointData('990:WA:SNTL', 'Beaver Pass'), SnotelPointData('711:WA:SNTL', 'Rainy Pass'), SnotelPointData('975:WA:SNTL', 'Swamp Creek'), SnotelPointData('999:WA:SNTL', 'Marten Ridge')]\n"
     ]
    }
   ],
   "source": [
    "# Find all the points in the area for our variables\n",
    "points = SnotelPointData.points_from_geometry(sf, variables)\n",
    "print(len(points))\n",
    "# This is an iterator\n",
    "print(type(points))\n",
    "# It contains the points in a `points` attribute\n",
    "print(points.points)"
   ]
  },
  {
   "cell_type": "markdown",
   "id": "ccd830a1-63ca-46c9-84c4-e1e968e1bced",
   "metadata": {},
   "source": [
    "### run this if we need to include out of basin stations"
   ]
  },
  {
   "cell_type": "code",
   "execution_count": 185,
   "id": "6c7486e0-bff9-41b9-9fd5-7645365b9510",
   "metadata": {},
   "outputs": [],
   "source": [
    "# buffer - add buffer (in degrees) to extents\n",
    "\n",
    "#print(SnotelPointData.points_from_geometry(sf, variables, buffer=0.5).points)\n",
    "\n",
    "# within_geometry - doesn't do anything since our geometry is already a square\n",
    "\n",
    "#print(SnotelPointData.points_from_geometry(sf, variables, within_geometry=False).points)"
   ]
  },
  {
   "cell_type": "code",
   "execution_count": 186,
   "id": "60cbc318-62ed-4f88-8755-d35a7735e1ea",
   "metadata": {},
   "outputs": [
    {
     "data": {
      "text/html": [
       "<div>\n",
       "<style scoped>\n",
       "    .dataframe tbody tr th:only-of-type {\n",
       "        vertical-align: middle;\n",
       "    }\n",
       "\n",
       "    .dataframe tbody tr th {\n",
       "        vertical-align: top;\n",
       "    }\n",
       "\n",
       "    .dataframe thead th {\n",
       "        text-align: right;\n",
       "    }\n",
       "</style>\n",
       "<table border=\"1\" class=\"dataframe\">\n",
       "  <thead>\n",
       "    <tr style=\"text-align: right;\">\n",
       "      <th></th>\n",
       "      <th>name</th>\n",
       "      <th>id</th>\n",
       "      <th>datasource</th>\n",
       "      <th>geometry</th>\n",
       "    </tr>\n",
       "  </thead>\n",
       "  <tbody>\n",
       "    <tr>\n",
       "      <th>0</th>\n",
       "      <td>Decline Creek</td>\n",
       "      <td>1319:WA:SNTL</td>\n",
       "      <td>NRCS</td>\n",
       "      <td>POINT Z (-121.45500 48.23594 4480.00000)</td>\n",
       "    </tr>\n",
       "    <tr>\n",
       "      <th>1</th>\n",
       "      <td>Hozomeen Camp</td>\n",
       "      <td>991:WA:SNTL</td>\n",
       "      <td>NRCS</td>\n",
       "      <td>POINT Z (-121.07976 48.98075 1690.00000)</td>\n",
       "    </tr>\n",
       "    <tr>\n",
       "      <th>2</th>\n",
       "      <td>Easy Pass</td>\n",
       "      <td>998:WA:SNTL</td>\n",
       "      <td>NRCS</td>\n",
       "      <td>POINT Z (-121.43895 48.85933 5270.00000)</td>\n",
       "    </tr>\n",
       "    <tr>\n",
       "      <th>3</th>\n",
       "      <td>Thunder Basin</td>\n",
       "      <td>817:WA:SNTL</td>\n",
       "      <td>NRCS</td>\n",
       "      <td>POINT Z (-120.98950 48.52753 4320.00000)</td>\n",
       "    </tr>\n",
       "    <tr>\n",
       "      <th>4</th>\n",
       "      <td>Brown Top</td>\n",
       "      <td>1080:WA:SNTL</td>\n",
       "      <td>NRCS</td>\n",
       "      <td>POINT Z (-121.19713 48.92755 5830.00000)</td>\n",
       "    </tr>\n",
       "    <tr>\n",
       "      <th>5</th>\n",
       "      <td>Beaver Pass</td>\n",
       "      <td>990:WA:SNTL</td>\n",
       "      <td>NRCS</td>\n",
       "      <td>POINT Z (-121.25550 48.87930 3630.00000)</td>\n",
       "    </tr>\n",
       "    <tr>\n",
       "      <th>6</th>\n",
       "      <td>Rainy Pass</td>\n",
       "      <td>711:WA:SNTL</td>\n",
       "      <td>NRCS</td>\n",
       "      <td>POINT Z (-120.73580 48.51865 4890.00000)</td>\n",
       "    </tr>\n",
       "    <tr>\n",
       "      <th>7</th>\n",
       "      <td>Swamp Creek</td>\n",
       "      <td>975:WA:SNTL</td>\n",
       "      <td>NRCS</td>\n",
       "      <td>POINT Z (-120.78267 48.57142 3930.00000)</td>\n",
       "    </tr>\n",
       "    <tr>\n",
       "      <th>8</th>\n",
       "      <td>Marten Ridge</td>\n",
       "      <td>999:WA:SNTL</td>\n",
       "      <td>NRCS</td>\n",
       "      <td>POINT Z (-121.69823 48.76292 3520.00000)</td>\n",
       "    </tr>\n",
       "  </tbody>\n",
       "</table>\n",
       "</div>"
      ],
      "text/plain": [
       "            name            id datasource  \\\n",
       "0  Decline Creek  1319:WA:SNTL       NRCS   \n",
       "1  Hozomeen Camp   991:WA:SNTL       NRCS   \n",
       "2      Easy Pass   998:WA:SNTL       NRCS   \n",
       "3  Thunder Basin   817:WA:SNTL       NRCS   \n",
       "4      Brown Top  1080:WA:SNTL       NRCS   \n",
       "5    Beaver Pass   990:WA:SNTL       NRCS   \n",
       "6     Rainy Pass   711:WA:SNTL       NRCS   \n",
       "7    Swamp Creek   975:WA:SNTL       NRCS   \n",
       "8   Marten Ridge   999:WA:SNTL       NRCS   \n",
       "\n",
       "                                   geometry  \n",
       "0  POINT Z (-121.45500 48.23594 4480.00000)  \n",
       "1  POINT Z (-121.07976 48.98075 1690.00000)  \n",
       "2  POINT Z (-121.43895 48.85933 5270.00000)  \n",
       "3  POINT Z (-120.98950 48.52753 4320.00000)  \n",
       "4  POINT Z (-121.19713 48.92755 5830.00000)  \n",
       "5  POINT Z (-121.25550 48.87930 3630.00000)  \n",
       "6  POINT Z (-120.73580 48.51865 4890.00000)  \n",
       "7  POINT Z (-120.78267 48.57142 3930.00000)  \n",
       "8  POINT Z (-121.69823 48.76292 3520.00000)  "
      ]
     },
     "execution_count": 186,
     "metadata": {},
     "output_type": "execute_result"
    }
   ],
   "source": [
    "# Make a static plot of the points\n",
    "# turn that iterator into a dataframe\n",
    "df = points.to_dataframe()\n",
    "# look at what is in the dataframe\n",
    "df.head(10)\n"
   ]
  },
  {
   "cell_type": "code",
   "execution_count": 187,
   "id": "3222c2a0-a502-49ac-87f7-1b8c5de33870",
   "metadata": {},
   "outputs": [],
   "source": [
    "def remove_z(geom):\n",
    "    if geom.is_empty:\n",
    "        return geom\n",
    "    else:\n",
    "        return Point(geom.x, geom.y)\n"
   ]
  },
  {
   "cell_type": "code",
   "execution_count": 188,
   "id": "cd37e3c1-6f9e-446c-94b4-1c1d9374fa40",
   "metadata": {},
   "outputs": [
    {
     "name": "stdout",
     "output_type": "stream",
     "text": [
      "            name            id datasource                     geometry\n",
      "0  Decline Creek  1319:WA:SNTL       NRCS  POINT (-121.45500 48.23594)\n",
      "1  Hozomeen Camp   991:WA:SNTL       NRCS  POINT (-121.07976 48.98075)\n",
      "2      Easy Pass   998:WA:SNTL       NRCS  POINT (-121.43895 48.85933)\n",
      "3  Thunder Basin   817:WA:SNTL       NRCS  POINT (-120.98950 48.52753)\n",
      "4      Brown Top  1080:WA:SNTL       NRCS  POINT (-121.19713 48.92755)\n",
      "5    Beaver Pass   990:WA:SNTL       NRCS  POINT (-121.25550 48.87930)\n",
      "6     Rainy Pass   711:WA:SNTL       NRCS  POINT (-120.73580 48.51865)\n",
      "7    Swamp Creek   975:WA:SNTL       NRCS  POINT (-120.78267 48.57142)\n",
      "8   Marten Ridge   999:WA:SNTL       NRCS  POINT (-121.69823 48.76292)\n"
     ]
    }
   ],
   "source": [
    "\n",
    "df.geometry = df.geometry.apply(remove_z)\n",
    "print(df)\n"
   ]
  },
  {
   "cell_type": "code",
   "execution_count": 189,
   "id": "664b720e-6770-4754-a5d5-a3745686c998",
   "metadata": {},
   "outputs": [],
   "source": [
    "#df = df.set_crs(\"EPSG:4326\")"
   ]
  },
  {
   "cell_type": "code",
   "execution_count": 190,
   "id": "a42bc627-d540-4edc-8afc-1a9b709e8566",
   "metadata": {},
   "outputs": [
    {
     "data": {
      "image/png": "[encoded data removed]",
      "text/plain": [
       "<Figure size 640x480 with 1 Axes>"
      ]
     },
     "metadata": {},
     "output_type": "display_data"
    }
   ],
   "source": [
    "\n",
    "ax = sf.to_crs(\"EPSG:4326\").plot(alpha=0.1)\n",
    "ax = df.plot(ax=ax, color=\"red\")\n",
    "ctx.add_basemap(\n",
    "    ax,\n",
    "    #source=ctx.providers.OpenStreetMap.Mapnik,\n",
    "    source=ctx.providers.USGS.USTopo,\n",
    "    crs=df.crs,\n",
    "    zoom=5\n",
    ")"
   ]
  },
  {
   "cell_type": "code",
   "execution_count": 191,
   "id": "461b069a-339b-46d3-a592-f800cb56dfc6",
   "metadata": {},
   "outputs": [],
   "source": [
    "# Let's look at our old friend banner summit\n",
    "pt = SnotelPointData(\"711:WA:SNTL\", \"Rainy Pass\")\n",
    "\n",
    "# start data and end date\n",
    "start_date = datetime(2017, 3, 1)\n",
    "end_date = datetime(2017, 4, 1)"
   ]
  },
  {
   "cell_type": "code",
   "execution_count": 192,
   "id": "3344a3d9-7896-4a14-86e2-634ef36bbc3b",
   "metadata": {},
   "outputs": [
    {
     "data": {
      "text/html": [
       "<div>\n",
       "<style scoped>\n",
       "    .dataframe tbody tr th:only-of-type {\n",
       "        vertical-align: middle;\n",
       "    }\n",
       "\n",
       "    .dataframe tbody tr th {\n",
       "        vertical-align: top;\n",
       "    }\n",
       "\n",
       "    .dataframe thead th {\n",
       "        text-align: right;\n",
       "    }\n",
       "</style>\n",
       "<table border=\"1\" class=\"dataframe\">\n",
       "  <thead>\n",
       "    <tr style=\"text-align: right;\">\n",
       "      <th></th>\n",
       "      <th></th>\n",
       "      <th>geometry</th>\n",
       "      <th>AIR TEMP</th>\n",
       "      <th>AIR TEMP_units</th>\n",
       "      <th>datasource</th>\n",
       "    </tr>\n",
       "    <tr>\n",
       "      <th>datetime</th>\n",
       "      <th>site</th>\n",
       "      <th></th>\n",
       "      <th></th>\n",
       "      <th></th>\n",
       "      <th></th>\n",
       "    </tr>\n",
       "  </thead>\n",
       "  <tbody>\n",
       "    <tr>\n",
       "      <th>2017-03-01 08:00:00+00:00</th>\n",
       "      <th>711:WA:SNTL</th>\n",
       "      <td>POINT Z (-120.73580 48.51865 4890.00000)</td>\n",
       "      <td>22.82</td>\n",
       "      <td>degF</td>\n",
       "      <td>NRCS</td>\n",
       "    </tr>\n",
       "    <tr>\n",
       "      <th>2017-03-02 08:00:00+00:00</th>\n",
       "      <th>711:WA:SNTL</th>\n",
       "      <td>POINT Z (-120.73580 48.51865 4890.00000)</td>\n",
       "      <td>24.26</td>\n",
       "      <td>degF</td>\n",
       "      <td>NRCS</td>\n",
       "    </tr>\n",
       "    <tr>\n",
       "      <th>2017-03-03 08:00:00+00:00</th>\n",
       "      <th>711:WA:SNTL</th>\n",
       "      <td>POINT Z (-120.73580 48.51865 4890.00000)</td>\n",
       "      <td>30.56</td>\n",
       "      <td>degF</td>\n",
       "      <td>NRCS</td>\n",
       "    </tr>\n",
       "    <tr>\n",
       "      <th>2017-03-04 08:00:00+00:00</th>\n",
       "      <th>711:WA:SNTL</th>\n",
       "      <td>POINT Z (-120.73580 48.51865 4890.00000)</td>\n",
       "      <td>27.50</td>\n",
       "      <td>degF</td>\n",
       "      <td>NRCS</td>\n",
       "    </tr>\n",
       "    <tr>\n",
       "      <th>2017-03-05 08:00:00+00:00</th>\n",
       "      <th>711:WA:SNTL</th>\n",
       "      <td>POINT Z (-120.73580 48.51865 4890.00000)</td>\n",
       "      <td>20.12</td>\n",
       "      <td>degF</td>\n",
       "      <td>NRCS</td>\n",
       "    </tr>\n",
       "    <tr>\n",
       "      <th>2017-03-06 08:00:00+00:00</th>\n",
       "      <th>711:WA:SNTL</th>\n",
       "      <td>POINT Z (-120.73580 48.51865 4890.00000)</td>\n",
       "      <td>21.74</td>\n",
       "      <td>degF</td>\n",
       "      <td>NRCS</td>\n",
       "    </tr>\n",
       "    <tr>\n",
       "      <th>2017-03-07 08:00:00+00:00</th>\n",
       "      <th>711:WA:SNTL</th>\n",
       "      <td>POINT Z (-120.73580 48.51865 4890.00000)</td>\n",
       "      <td>16.70</td>\n",
       "      <td>degF</td>\n",
       "      <td>NRCS</td>\n",
       "    </tr>\n",
       "    <tr>\n",
       "      <th>2017-03-08 08:00:00+00:00</th>\n",
       "      <th>711:WA:SNTL</th>\n",
       "      <td>POINT Z (-120.73580 48.51865 4890.00000)</td>\n",
       "      <td>23.72</td>\n",
       "      <td>degF</td>\n",
       "      <td>NRCS</td>\n",
       "    </tr>\n",
       "    <tr>\n",
       "      <th>2017-03-09 08:00:00+00:00</th>\n",
       "      <th>711:WA:SNTL</th>\n",
       "      <td>POINT Z (-120.73580 48.51865 4890.00000)</td>\n",
       "      <td>22.10</td>\n",
       "      <td>degF</td>\n",
       "      <td>NRCS</td>\n",
       "    </tr>\n",
       "    <tr>\n",
       "      <th>2017-03-10 08:00:00+00:00</th>\n",
       "      <th>711:WA:SNTL</th>\n",
       "      <td>POINT Z (-120.73580 48.51865 4890.00000)</td>\n",
       "      <td>26.96</td>\n",
       "      <td>degF</td>\n",
       "      <td>NRCS</td>\n",
       "    </tr>\n",
       "  </tbody>\n",
       "</table>\n",
       "</div>"
      ],
      "text/plain": [
       "                                                                       geometry  \\\n",
       "datetime                  site                                                    \n",
       "2017-03-01 08:00:00+00:00 711:WA:SNTL  POINT Z (-120.73580 48.51865 4890.00000)   \n",
       "2017-03-02 08:00:00+00:00 711:WA:SNTL  POINT Z (-120.73580 48.51865 4890.00000)   \n",
       "2017-03-03 08:00:00+00:00 711:WA:SNTL  POINT Z (-120.73580 48.51865 4890.00000)   \n",
       "2017-03-04 08:00:00+00:00 711:WA:SNTL  POINT Z (-120.73580 48.51865 4890.00000)   \n",
       "2017-03-05 08:00:00+00:00 711:WA:SNTL  POINT Z (-120.73580 48.51865 4890.00000)   \n",
       "2017-03-06 08:00:00+00:00 711:WA:SNTL  POINT Z (-120.73580 48.51865 4890.00000)   \n",
       "2017-03-07 08:00:00+00:00 711:WA:SNTL  POINT Z (-120.73580 48.51865 4890.00000)   \n",
       "2017-03-08 08:00:00+00:00 711:WA:SNTL  POINT Z (-120.73580 48.51865 4890.00000)   \n",
       "2017-03-09 08:00:00+00:00 711:WA:SNTL  POINT Z (-120.73580 48.51865 4890.00000)   \n",
       "2017-03-10 08:00:00+00:00 711:WA:SNTL  POINT Z (-120.73580 48.51865 4890.00000)   \n",
       "\n",
       "                                       AIR TEMP AIR TEMP_units datasource  \n",
       "datetime                  site                                             \n",
       "2017-03-01 08:00:00+00:00 711:WA:SNTL     22.82           degF       NRCS  \n",
       "2017-03-02 08:00:00+00:00 711:WA:SNTL     24.26           degF       NRCS  \n",
       "2017-03-03 08:00:00+00:00 711:WA:SNTL     30.56           degF       NRCS  \n",
       "2017-03-04 08:00:00+00:00 711:WA:SNTL     27.50           degF       NRCS  \n",
       "2017-03-05 08:00:00+00:00 711:WA:SNTL     20.12           degF       NRCS  \n",
       "2017-03-06 08:00:00+00:00 711:WA:SNTL     21.74           degF       NRCS  \n",
       "2017-03-07 08:00:00+00:00 711:WA:SNTL     16.70           degF       NRCS  \n",
       "2017-03-08 08:00:00+00:00 711:WA:SNTL     23.72           degF       NRCS  \n",
       "2017-03-09 08:00:00+00:00 711:WA:SNTL     22.10           degF       NRCS  \n",
       "2017-03-10 08:00:00+00:00 711:WA:SNTL     26.96           degF       NRCS  "
      ]
     },
     "execution_count": 192,
     "metadata": {},
     "output_type": "execute_result"
    }
   ],
   "source": [
    "# request the data\n",
    "df = pt.get_daily_data(start_date, end_date, variables)\n",
    "df.head(10)"
   ]
  },
  {
   "cell_type": "code",
   "execution_count": 196,
   "id": "ee888d8a-9462-48c4-b322-db7f377bc442",
   "metadata": {},
   "outputs": [
    {
     "data": {
      "text/plain": [
       "<Axes: xlabel='datetime,site'>"
      ]
     },
     "execution_count": 196,
     "metadata": {},
     "output_type": "execute_result"
    },
    {
     "data": {
      "image/png": "[encoded data removed]",
      "text/plain": [
       "<Figure size 640x480 with 1 Axes>"
      ]
     },
     "metadata": {},
     "output_type": "display_data"
    }
   ],
   "source": [
    "df[\"AIR TEMP\"].plot()"
   ]
  },
  {
   "cell_type": "code",
   "execution_count": null,
   "id": "fe6d6c01-5f8c-41ba-bbde-ec22171f04b5",
   "metadata": {},
   "outputs": [],
   "source": []
  },
  {
   "cell_type": "code",
   "execution_count": null,
   "id": "c1d3ef56-51af-46ac-8114-3d7826d14fd7",
   "metadata": {},
   "outputs": [],
   "source": []
  }
 ],
 "metadata": {
  "kernelspec": {
   "display_name": "skagit-met",
   "language": "python",
   "name": "skagit-met"
  },
  "language_info": {
   "codemirror_mode": {
    "name": "ipython",
    "version": 3
   },
   "file_extension": ".py",
   "mimetype": "text/x-python",
   "name": "python",
   "nbconvert_exporter": "python",
   "pygments_lexer": "ipython3",
   "version": "3.9.19"
  }
 },
 "nbformat": 4,
 "nbformat_minor": 5
}
