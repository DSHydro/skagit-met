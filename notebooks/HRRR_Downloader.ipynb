{
 "cells": [
  {
   "cell_type": "markdown",
   "id": "b041721a-a7ee-46bf-a67f-a8035117fd3a",
   "metadata": {
    "editable": true,
    "slideshow": {
     "slide_type": ""
    },
    "tags": []
   },
   "source": [
    "# HRRR Model Downloader Sample Notebook"
   ]
  },
  {
   "cell_type": "markdown",
   "id": "41fce7e4-bd21-45d6-8e62-26d0d060a48d",
   "metadata": {},
   "source": [
    "This notebook provides some examples of downloading, processing, and working with hrrr data for visualizations and analysis."
   ]
  },
  {
   "cell_type": "markdown",
   "id": "9d8c9edf-c8d7-4a34-a9de-f86f6cd9ffa6",
   "metadata": {},
   "source": [
    "### Imports and Setup"
   ]
  },
  {
   "cell_type": "code",
   "execution_count": null,
   "id": "940db7c2-5033-4489-ad6f-a175a59847a2",
   "metadata": {},
   "outputs": [],
   "source": [
    "# NOTE: ensure `wgrib2` executable detectable\n",
    "import os \n",
    "import shutil\n",
    "os.environ['PATH'] += f':../.pixi/envs/data-download/bin'\n",
    "print(shutil.which('wgrib2'))\n",
    "os.environ['PATH']"
   ]
  },
  {
   "cell_type": "code",
   "execution_count": null,
   "id": "78d5c29d-629c-4888-8a1e-77d9aa913db0",
   "metadata": {},
   "outputs": [],
   "source": [
    "from herbie import Herbie, FastHerbie, wgrib2\n",
    "import geopandas as gpd\n",
    "import pandas as pd\n",
    "import xarray as xr\n",
    "import rioxarray as rxr\n",
    "import geojson\n",
    "import shapely\n",
    "import dask.array as da\n",
    "import glob\n",
    "import xarray as xr\n",
    "import numpy as np\n",
    "import cfgrib"
   ]
  },
  {
   "cell_type": "markdown",
   "id": "f202d41c-bbd9-4340-9056-2dda035a76f8",
   "metadata": {},
   "source": [
    "### Helper Functions"
   ]
  },
  {
   "cell_type": "code",
   "execution_count": null,
   "id": "c7a93329-8afc-4de3-858e-b09ba311a26d",
   "metadata": {},
   "outputs": [],
   "source": [
    "# Takes a dict of vars you want to extract, and the corresponding granularities\n",
    "# Uses XARRAY accessors to limit them\n",
    "def download_parameters(parameters: dict, fh: FastHerbie) -> None:\n",
    "    fields = [f\":{param}:{level}\" for param, level in parameters.items()]\n",
    "    param_regex = fr\"^(?:{'|'.join(fields)})\"\n",
    "    print(\"Search String: \" + param_regex)\n",
    "    return fh.download(param_regex)\n",
    "    "
   ]
  },
  {
   "cell_type": "code",
   "execution_count": null,
   "id": "f9576655-f1b9-4551-ad02-d7476990e118",
   "metadata": {},
   "outputs": [],
   "source": [
    "# Parse GeoJson polygon - see skagit_boundaries.json for example\n",
    "def parseGeoJson(geojson_path: str) -> tuple[float, float, float, float]:\n",
    "    mask = gpd.read_file(geojson_path)\n",
    "    minLon, minLat, maxLon, maxLat = mask.total_bounds\n",
    "    return (minLon, maxLon, minLat, maxLat)\n",
    "\n",
    "def limitGeographicRange(bounds: tuple[float, float, float, float], subsetFiles: list) -> list:\n",
    "    return [wgrib2.region(f, bounds, name='skagit-basin') for f in subsetFiles]\n",
    "            "
   ]
  },
  {
   "cell_type": "markdown",
   "id": "6a5775ec-4aa5-4a2d-9818-438358c6b9e7",
   "metadata": {},
   "source": [
    "### Parameter Selection and download files"
   ]
  },
  {
   "cell_type": "code",
   "execution_count": null,
   "id": "fc916881-ab4f-4058-ae92-6f5494edb717",
   "metadata": {},
   "outputs": [],
   "source": [
    "%%time\n",
    "\n",
    "model = 'hrrr' # Use HRRR Model\n",
    "product = 'sfc' # Use 2D surface level fields; 3-km resolution; 1 hr intervals\n",
    "date_range = pd.date_range(\n",
    "    start=\"2020-03-01 00:00\",\n",
    "    end=\"2020-03-02 00:00\",\n",
    "    freq=\"1h\"\n",
    ")\n",
    "\n",
    "# Parameter Names scoped from here: \n",
    "# https://www.nco.ncep.noaa.gov/pmb/products/hrrr/hrrr.t00z.wrfsfcf00.grib2.shtml\n",
    "# See https://github.com/blaylockbk/Herbie/discussions/10\n",
    "# for modifications to accumulated precip to get hourly amount\n",
    "parameters = {\n",
    "    'TMP' : 'surface', # Temperature - Hourly\n",
    "    'RH' : '2 m above ground', # Relative Humidity - Hourly\n",
    "    'WIND': '10 m above ground', # Wind Speed - 0-0 day max f \n",
    "    'APCP': 'surface:0-1 hour acc fcst', # Total Precip - 0-0 day acc f \n",
    "    'DSWRF': 'surface', # Downward Short-Wave Radiation Flux - Hourly\n",
    "    'DLWRF': 'surface' # Downward Long-Wave Rad. Flux - Hourly\n",
    "}\n",
    "\n",
    "# Download files\n",
    "fh = FastHerbie(date_range, model=model, product=product, fxx=range(0,2), save_dir=\"../data/weather_data/\")\n",
    "fh_files = download_parameters(parameters, fh)"
   ]
  },
  {
   "cell_type": "markdown",
   "id": "ccb23c53-f8fd-4a5a-8b38-3cfd5a3c1604",
   "metadata": {},
   "source": [
    "### Create Inventory files to appease wgrib2, and then geolimit them based on boundaries file"
   ]
  },
  {
   "cell_type": "code",
   "execution_count": null,
   "id": "49e8f900-5925-4818-a471-609dee981993",
   "metadata": {},
   "outputs": [],
   "source": [
    "# NOTE: seems to be automatically created if doesn't already exist\n",
    "\n",
    "# for f in fh_files:\n",
    "#     wgrib2.create_inventory_file(f)"
   ]
  },
  {
   "cell_type": "code",
   "execution_count": null,
   "id": "612b48f7-eaac-4e23-b2ee-aebf6bb4c6e4",
   "metadata": {},
   "outputs": [],
   "source": [
    "%%time \n",
    "\n",
    "aoi_path = '../data/GIS/SkagitBoundary.json'\n",
    "mask = gpd.read_file(aoi_path)\n",
    "bounds = parseGeoJson(aoi_path)\n",
    "geo_limited_files = limitGeographicRange(bounds, fh_files)"
   ]
  },
  {
   "cell_type": "code",
   "execution_count": null,
   "id": "71cd8e84-19f9-41db-bb1c-c1c262e55e91",
   "metadata": {},
   "outputs": [],
   "source": [
    "geo_limited_files[:3]"
   ]
  },
  {
   "cell_type": "markdown",
   "id": "38bd9a71-5ac5-4914-9a1d-484da68dec64",
   "metadata": {},
   "source": [
    "### Load files, combine into xarray, and save as zarr"
   ]
  },
  {
   "cell_type": "code",
   "execution_count": null,
   "id": "0183561a-6f2e-4c43-8b2b-49788e97d870",
   "metadata": {
    "scrolled": true
   },
   "outputs": [],
   "source": [
    "datasets = []\n",
    "dropVars = [\"surface\", \"heightAboveGround\", \"valid_time\", \"step\"]\n",
    "# if f001, grab just the accumlated precip by dropping the other forecast variables\n",
    "dropVarsStep = dropVars + [\"t\", \"r2\", \"si10\", \"sdswrf\", \"sdlwrf\"]\n",
    "for f in geo_limited_files:\n",
    "    # NOTE: To silence this warning, set decode_timedelta to True, False, or a 'CFTimedeltaCoder' instance.\n",
    "    unMergedDatasets = cfgrib.open_datasets(f, indexpath='', decode_timedelta=False)\n",
    "    mergedDataset = xr.merge([ds.drop_vars(dropVarsStep, errors=\"ignore\") if ds.step.values == np.timedelta64(1, 'h') else ds.drop_vars(dropVars, errors=\"ignore\") for ds in unMergedDatasets])\n",
    "    mergedDataset.load()\n",
    "    datasets.append(mergedDataset)\n",
    "\n",
    "other = [ds for ds in datasets if 'tp' not in ds.variables]\n",
    "tp = [ds for ds in datasets if 'tp' in ds.variables]\n",
    "\n",
    "tp_ds = xr.concat(tp, dim='time')\n",
    "other = xr.concat(other, dim='time')\n",
    "# NOTE: MergeError: conflicting values for variable 'max_10si' on objects to be combined\n",
    "comb = xr.combine_by_coords([tp_ds, other], compat='override')\n",
    "# Set Longitude to be in correct space\n",
    "comb['longitude'] = comb.longitude-360"
   ]
  },
  {
   "cell_type": "code",
   "execution_count": null,
   "id": "fa356a2b-0b38-479c-bb57-b3321975ca8e",
   "metadata": {},
   "outputs": [],
   "source": [
    "skagit_mask = shapely.contains_xy(mask.geometry[0], comb.longitude.values, comb.latitude.values)\n",
    "skagit_mask\n",
    "\n",
    "masked_data_set = comb.where(skagit_mask)\n",
    "masked_data_set"
   ]
  },
  {
   "cell_type": "code",
   "execution_count": null,
   "id": "12e2b5d0-11ab-4fd5-8974-86a3bed88a78",
   "metadata": {},
   "outputs": [],
   "source": [
    "zarr_path = '../data/weather_data/hrrr.zarr'\n",
    "masked_data_set.to_zarr(zarr_path,  mode='w')"
   ]
  },
  {
   "cell_type": "code",
   "execution_count": null,
   "id": "23d47f58-db38-4ec5-a2fc-f0bf50dfa2aa",
   "metadata": {},
   "outputs": [],
   "source": []
  }
 ],
 "metadata": {
  "kernelspec": {
   "display_name": "skagit_download",
   "language": "python",
   "name": "skagit_download"
  },
  "language_info": {
   "codemirror_mode": {
    "name": "ipython",
    "version": 3
   },
   "file_extension": ".py",
   "mimetype": "text/x-python",
   "name": "python",
   "nbconvert_exporter": "python",
   "pygments_lexer": "ipython3",
   "version": "3.10.17"
  }
 },
 "nbformat": 4,
 "nbformat_minor": 5
}
