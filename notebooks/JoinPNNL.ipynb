{
 "cells": [
  {
   "cell_type": "markdown",
   "metadata": {},
   "source": [
    "This notbook is a an example of how to combine and virtualize large datsets like PNNL. Kudos to Scott for fiugring this one out!"
   ]
  },
  {
   "cell_type": "code",
   "execution_count": 6,
   "metadata": {},
   "outputs": [],
   "source": [
    "import xarray as xr\n",
    "import dask\n",
    "from virtualizarr import open_virtual_dataset\n",
    "import glob\n",
    "import cartopy.crs as ccrs"
   ]
  },
  {
   "cell_type": "code",
   "execution_count": 2,
   "metadata": {},
   "outputs": [],
   "source": [
    "# # A convenience for files that have lots of attribute\n",
    "xr.set_options(display_expand_attrs=False);"
   ]
  },
  {
   "cell_type": "code",
   "execution_count": 3,
   "metadata": {},
   "outputs": [
    {
     "name": "stdout",
     "output_type": "stream",
     "text": [
      "1.3.1\n",
      "2025.1.2\n"
     ]
    }
   ],
   "source": [
    "from importlib.metadata import version\n",
    "print(version('virtualizarr'))\n",
    "print(version('xarray'))"
   ]
  },
  {
   "cell_type": "code",
   "execution_count": 4,
   "metadata": {},
   "outputs": [],
   "source": [
    "def virtualize_single_variable(variable_shortname, scenario='historical', save=False):\n",
    "    \"\"\" Create a single variable .parquet virtualizarr reference\"\"\"\n",
    "    print(f'Virtualizing {variable_shortname}... for Scenario {scenario}')\n",
    "    pnnl_files = glob.glob(f'/data0/skagit_met/PNNL/{scenario}/**/*{variable_shortname}*.nc')\n",
    "    pnnl_files.sort() # in-place sort (can get away w/ this because of file name structure)\n",
    "    vds_list = [\n",
    "        open_virtual_dataset(filepath, indexes={}, drop_variables=['x','y'], loadable_variables=['time'], decode_times=True)\n",
    "        for filepath in pnnl_files\n",
    "    ]\n",
    "    combined_vds = xr.combine_nested(vds_list, concat_dim=['time'], coords=\"minimal\", compat=\"override\", combine_attrs=\"drop_conflicts\")\n",
    "    if save:\n",
    "        combined_vds.virtualize.to_kerchunk(f'/data0/skagit_met/PNNL/{scenario}/{variable_shortname}.parquet', format='parquet')\n",
    "        \n",
    "    return combined_vds"
   ]
  },
  {
   "cell_type": "code",
   "execution_count": null,
   "metadata": {},
   "outputs": [],
   "source": [
    "all_vars = ['GLW', 'PREC_ACC_NC', 'T2', 'Q2', 'SWDOWN', 'U10', 'V10']\n",
    "all_scenarios = ['historical', 'HadGEM2_ES', 'CanESM2', 'CESM1_CAM5','GFDL_ESM2M','MPI_ESM_MR']\n",
    "for scenario in all_scenarios:\n",
    "        all_vds = [virtualize_single_variable(variable, scenario=scenario) for variable in all_vars]\n",
    "        VDS = xr.merge(all_vds)\n",
    "        VDS.virtualize.to_kerchunk(f'/data0/skagit_met/PNNL/{scenario}/PNNL_{scenario}.parquet', format='parquet')\n",
    "        all_vds = None\n",
    "        VDS = None"
   ]
  },
  {
   "cell_type": "code",
   "execution_count": null,
   "metadata": {},
   "outputs": [],
   "source": [
    "# Grid for plotting\n",
    "grid_path = '/data0/skagit_met/PNNL/historical/SERDP6km.geo_em.d01.nc'\n",
    "ds_grid = xr.open_dataset(grid_path).squeeze() # Drop Time=0 scalar dimension\n",
    "# Assign Coordinates in Xarray (keep landmask for viz) \n",
    "dsg = ds_grid[['LANDMASK','CLONG','CLAT']]\n",
    "dsg = dsg.set_coords((\"CLONG\", \"CLAT\")).rename(dict(south_north='y', west_east='x'))\n",
    "# Still not recognized as multidimensional coordinates\n",
    "# Rename to x and y To match data files\n",
    "dsg = dsg.set_coords((\"CLONG\", \"CLAT\")).rename(dict(south_north='y', west_east='x'))\n",
    "\n",
    "DS = xr.open_dataset('/data0/skagit_met/PNNL/historical/PNNL_historical.parquet', engine='kerchunk', mask_and_scale=False)\n",
    "# Assign Grid Lon/Lats \n",
    "DS = DS.assign_coords(dsg.coords) # Better!\n",
    "# Also bring in land mask\n",
    "DS.coords['LANDMASK'] = dsg.LANDMASK\n",
    "DS"
   ]
  },
  {
   "cell_type": "code",
   "execution_count": null,
   "metadata": {},
   "outputs": [],
   "source": [
    "import matplotlib.pyplot as plt \n",
    "%matplotlib inline\n",
    "%config InlineBackend.figure_format='retina'\n",
    "\n",
    "# Plot \n",
    "ax = plt.axes(projection=ccrs.PlateCarree())\n",
    "DS.T2.isel(time=10).where(DS.LANDMASK).plot(ax=ax, x=\"CLONG\", y=\"CLAT\")"
   ]
  }
 ],
 "metadata": {
  "kernelspec": {
   "display_name": "analysis",
   "language": "python",
   "name": "python3"
  },
  "language_info": {
   "codemirror_mode": {
    "name": "ipython",
    "version": 3
   },
   "file_extension": ".py",
   "mimetype": "text/x-python",
   "name": "python",
   "nbconvert_exporter": "python",
   "pygments_lexer": "ipython3",
   "version": "3.11.11"
  }
 },
 "nbformat": 4,
 "nbformat_minor": 2
}
